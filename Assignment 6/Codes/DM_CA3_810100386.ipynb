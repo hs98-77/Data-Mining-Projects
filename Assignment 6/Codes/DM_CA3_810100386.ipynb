{
  "cells": [
    {
      "cell_type": "code",
      "execution_count": 2,
      "metadata": {
        "colab": {
          "base_uri": "https://localhost:8080/"
        },
        "id": "LVaupL05Xfzr",
        "outputId": "34e017fa-1474-4c58-82b5-1b64b91e0d6e"
      },
      "outputs": [
        {
          "output_type": "stream",
          "name": "stdout",
          "text": [
            "Drive already mounted at /content/drive; to attempt to forcibly remount, call drive.mount(\"/content/drive\", force_remount=True).\n"
          ]
        }
      ],
      "source": [
        "from google.colab import drive\n",
        "drive.mount('/content/drive')\n",
        "import pandas as pd\n",
        "df = pd.read_csv('/content/drive/MyDrive/DM_CA3/diabetic_data.csv')"
      ]
    },
    {
      "cell_type": "code",
      "execution_count": 3,
      "metadata": {
        "id": "K-IPrygcYtqD"
      },
      "outputs": [],
      "source": [
        "def CountMissingCol(df, col):\n",
        "    return list(df[col].isnull()).count(True)\n",
        "\n",
        "def CountMissingData(df):\n",
        "    d = dict()\n",
        "    for col in df.columns:\n",
        "        d[col] = CountMissingCol(df, col)\n",
        "    return d"
      ]
    },
    {
      "cell_type": "code",
      "execution_count": 4,
      "metadata": {
        "id": "p9o1b0niY1U7"
      },
      "outputs": [],
      "source": [
        "import numpy as np\n",
        "df = df.replace('?', np.nan)\n",
        "df = df.replace('None', np.nan)"
      ]
    },
    {
      "cell_type": "code",
      "execution_count": 4,
      "metadata": {
        "colab": {
          "base_uri": "https://localhost:8080/"
        },
        "id": "cWpmSBSqZA3k",
        "outputId": "860619da-3461-4ddc-8386-8490300f2af2"
      },
      "outputs": [
        {
          "output_type": "execute_result",
          "data": {
            "text/plain": [
              "{'A1Cresult': 84748,\n",
              " 'acarbose': 0,\n",
              " 'acetohexamide': 0,\n",
              " 'admission_source_id': 0,\n",
              " 'admission_type_id': 0,\n",
              " 'age': 0,\n",
              " 'change': 0,\n",
              " 'chlorpropamide': 0,\n",
              " 'citoglipton': 0,\n",
              " 'diabetesMed': 0,\n",
              " 'diag_1': 21,\n",
              " 'diag_2': 358,\n",
              " 'diag_3': 1423,\n",
              " 'discharge_disposition_id': 0,\n",
              " 'encounter_id': 0,\n",
              " 'examide': 0,\n",
              " 'gender': 0,\n",
              " 'glimepiride': 0,\n",
              " 'glimepiride-pioglitazone': 0,\n",
              " 'glipizide': 0,\n",
              " 'glipizide-metformin': 0,\n",
              " 'glyburide': 0,\n",
              " 'glyburide-metformin': 0,\n",
              " 'insulin': 0,\n",
              " 'max_glu_serum': 96420,\n",
              " 'medical_specialty': 49949,\n",
              " 'metformin': 0,\n",
              " 'metformin-pioglitazone': 0,\n",
              " 'metformin-rosiglitazone': 0,\n",
              " 'miglitol': 0,\n",
              " 'nateglinide': 0,\n",
              " 'num_lab_procedures': 0,\n",
              " 'num_medications': 0,\n",
              " 'num_procedures': 0,\n",
              " 'number_diagnoses': 0,\n",
              " 'number_emergency': 0,\n",
              " 'number_inpatient': 0,\n",
              " 'number_outpatient': 0,\n",
              " 'patient_nbr': 0,\n",
              " 'payer_code': 40256,\n",
              " 'pioglitazone': 0,\n",
              " 'race': 2273,\n",
              " 'readmitted': 0,\n",
              " 'repaglinide': 0,\n",
              " 'rosiglitazone': 0,\n",
              " 'time_in_hospital': 0,\n",
              " 'tolazamide': 0,\n",
              " 'tolbutamide': 0,\n",
              " 'troglitazone': 0,\n",
              " 'weight': 98569}"
            ]
          },
          "metadata": {},
          "execution_count": 4
        }
      ],
      "source": [
        "CountMissingData(df)"
      ]
    },
    {
      "cell_type": "code",
      "execution_count": 5,
      "metadata": {
        "id": "sMVdEN0GZBxA"
      },
      "outputs": [],
      "source": [
        "df = df.drop(columns=['weight', 'max_glu_serum', 'A1Cresult', 'citoglipton', 'examide'], axis=1)"
      ]
    },
    {
      "cell_type": "code",
      "execution_count": 6,
      "metadata": {
        "id": "RLOMIbpHjMDC"
      },
      "outputs": [],
      "source": [
        "df['diag_1'] = df['diag_1'].fillna(method='ffill')\n",
        "df['diag_2'] = df['diag_2'].fillna(method='ffill')\n",
        "df['diag_3'] = df['diag_3'].fillna(method='ffill')\n",
        "df['medical_specialty'] = df['medical_specialty'].fillna(method='ffill')\n",
        "df['payer_code'] = df['payer_code'].fillna(method='bfill')\n",
        "df['race'] = df['race'].fillna(method='ffill')"
      ]
    },
    {
      "cell_type": "code",
      "execution_count": 7,
      "metadata": {
        "id": "E9DZ1yiUqSuh"
      },
      "outputs": [],
      "source": [
        "to_be_numerized = ['race', 'gender', 'age', 'payer_code', 'metformin', 'repaglinide', 'nateglinide', 'medical_specialty', 'readmitted',\n",
        "                   'rosiglitazone', 'acarbose', 'acetohexamide', 'diabetesMed', 'chlorpropamide', 'change', 'diag_1',\n",
        "                   'diag_2', 'diag_3', 'pioglitazone', 'tolazamide', 'tolbutamide', 'troglitazone', 'glimepiride',\n",
        "                   'glipizide', 'glyburide', 'miglitol', 'insulin', 'glyburide-metformin', 'glipizide-metformin', \n",
        "                   'glimepiride-pioglitazone', 'metformin-rosiglitazone', 'metformin-pioglitazone']\n",
        "for col in to_be_numerized:\n",
        "  values = list(set(df[col]))\n",
        "  df[col] = df[col].map(lambda x: values.index(x))"
      ]
    },
    {
      "cell_type": "code",
      "execution_count": 9,
      "metadata": {
        "id": "Az5SjHTPrB75"
      },
      "outputs": [],
      "source": [
        "norm_df = (df-np.mean(df))/np.std(df)"
      ]
    },
    {
      "cell_type": "code",
      "execution_count": 8,
      "metadata": {
        "colab": {
          "base_uri": "https://localhost:8080/",
          "height": 300
        },
        "id": "dg5tYJYV_xhf",
        "outputId": "831b1ed4-d2ff-4a1b-dcf3-77d2d407614e"
      },
      "outputs": [
        {
          "output_type": "stream",
          "name": "stderr",
          "text": [
            "100%|██████████| 11/11 [24:10<00:00, 131.90s/it]\n"
          ]
        },
        {
          "output_type": "execute_result",
          "data": {
            "text/plain": [
              "[<matplotlib.lines.Line2D at 0x7fabcf6409d0>]"
            ]
          },
          "metadata": {},
          "execution_count": 8
        },
        {
          "output_type": "display_data",
          "data": {
            "text/plain": [
              "<Figure size 432x288 with 1 Axes>"
            ],
            "image/png": "[encoded data removed]"
          },
          "metadata": {
            "needs_background": "light"
          }
        }
      ],
      "source": [
        "from sklearn.cluster import KMeans\n",
        "from sklearn.metrics import silhouette_score\n",
        "import matplotlib.pyplot as plt\n",
        "from tqdm import tqdm\n",
        "kmeans_pred = list()\n",
        "kmeans_s_score = dict()\n",
        "for s in tqdm(range(2,13)):\n",
        "  km = KMeans(n_clusters=s)\n",
        "  km.fit_predict(df.drop('encounter_id', axis=1))\n",
        "  kmeans_pred.append(km.labels_)\n",
        "  score = silhouette_score(df.drop('encounter_id', axis=1), km.labels_, metric='euclidean')\n",
        "  kmeans_s_score[s] = score\n",
        "plt.plot(list(kmeans_s_score.keys()),list(kmeans_s_score.values()))"
      ]
    },
    {
      "cell_type": "code",
      "source": [
        "from sklearn.cluster import DBSCAN\n",
        "from sklearn.metrics import silhouette_score\n",
        "clustering = DBSCAN(eps=2, min_samples=3)\n",
        "clustering.fit_predict(df.drop('encounter_id', axis=1))\n",
        "score = silhouette_score(df.drop('encounter_id', axis=1), clustering.labels_, metric='euclidean')"
      ],
      "metadata": {
        "colab": {
          "base_uri": "https://localhost:8080/",
          "height": 345
        },
        "id": "SLcmnjGinTFf",
        "outputId": "6eeceabd-9074-4edd-d71e-e47c5e120b02"
      },
      "execution_count": 11,
      "outputs": [
        {
          "output_type": "error",
          "ename": "ValueError",
          "evalue": "ignored",
          "traceback": [
            "\u001b[0;31m---------------------------------------------------------------------------\u001b[0m",
            "\u001b[0;31mValueError\u001b[0m                                Traceback (most recent call last)",
            "\u001b[0;32m<ipython-input-11-26ad23b08362>\u001b[0m in \u001b[0;36m<module>\u001b[0;34m()\u001b[0m\n\u001b[1;32m      3\u001b[0m \u001b[0mclustering\u001b[0m \u001b[0;34m=\u001b[0m \u001b[0mDBSCAN\u001b[0m\u001b[0;34m(\u001b[0m\u001b[0meps\u001b[0m\u001b[0;34m=\u001b[0m\u001b[0;36m2\u001b[0m\u001b[0;34m,\u001b[0m \u001b[0mmin_samples\u001b[0m\u001b[0;34m=\u001b[0m\u001b[0;36m3\u001b[0m\u001b[0;34m)\u001b[0m\u001b[0;34m\u001b[0m\u001b[0;34m\u001b[0m\u001b[0m\n\u001b[1;32m      4\u001b[0m \u001b[0mclustering\u001b[0m\u001b[0;34m.\u001b[0m\u001b[0mfit_predict\u001b[0m\u001b[0;34m(\u001b[0m\u001b[0mdf\u001b[0m\u001b[0;34m.\u001b[0m\u001b[0mdrop\u001b[0m\u001b[0;34m(\u001b[0m\u001b[0;34m'encounter_id'\u001b[0m\u001b[0;34m,\u001b[0m \u001b[0maxis\u001b[0m\u001b[0;34m=\u001b[0m\u001b[0;36m1\u001b[0m\u001b[0;34m)\u001b[0m\u001b[0;34m)\u001b[0m\u001b[0;34m\u001b[0m\u001b[0;34m\u001b[0m\u001b[0m\n\u001b[0;32m----> 5\u001b[0;31m \u001b[0mscore\u001b[0m \u001b[0;34m=\u001b[0m \u001b[0msilhouette_score\u001b[0m\u001b[0;34m(\u001b[0m\u001b[0mdf\u001b[0m\u001b[0;34m.\u001b[0m\u001b[0mdrop\u001b[0m\u001b[0;34m(\u001b[0m\u001b[0;34m'encounter_id'\u001b[0m\u001b[0;34m,\u001b[0m \u001b[0maxis\u001b[0m\u001b[0;34m=\u001b[0m\u001b[0;36m1\u001b[0m\u001b[0;34m)\u001b[0m\u001b[0;34m,\u001b[0m \u001b[0mclustering\u001b[0m\u001b[0;34m.\u001b[0m\u001b[0mlabels_\u001b[0m\u001b[0;34m,\u001b[0m \u001b[0mmetric\u001b[0m\u001b[0;34m=\u001b[0m\u001b[0;34m'euclidean'\u001b[0m\u001b[0;34m)\u001b[0m\u001b[0;34m\u001b[0m\u001b[0;34m\u001b[0m\u001b[0m\n\u001b[0m",
            "\u001b[0;32m/usr/local/lib/python3.7/dist-packages/sklearn/metrics/cluster/_unsupervised.py\u001b[0m in \u001b[0;36msilhouette_score\u001b[0;34m(X, labels, metric, sample_size, random_state, **kwds)\u001b[0m\n\u001b[1;32m    115\u001b[0m         \u001b[0;32melse\u001b[0m\u001b[0;34m:\u001b[0m\u001b[0;34m\u001b[0m\u001b[0;34m\u001b[0m\u001b[0m\n\u001b[1;32m    116\u001b[0m             \u001b[0mX\u001b[0m\u001b[0;34m,\u001b[0m \u001b[0mlabels\u001b[0m \u001b[0;34m=\u001b[0m \u001b[0mX\u001b[0m\u001b[0;34m[\u001b[0m\u001b[0mindices\u001b[0m\u001b[0;34m]\u001b[0m\u001b[0;34m,\u001b[0m \u001b[0mlabels\u001b[0m\u001b[0;34m[\u001b[0m\u001b[0mindices\u001b[0m\u001b[0;34m]\u001b[0m\u001b[0;34m\u001b[0m\u001b[0;34m\u001b[0m\u001b[0m\n\u001b[0;32m--> 117\u001b[0;31m     \u001b[0;32mreturn\u001b[0m \u001b[0mnp\u001b[0m\u001b[0;34m.\u001b[0m\u001b[0mmean\u001b[0m\u001b[0;34m(\u001b[0m\u001b[0msilhouette_samples\u001b[0m\u001b[0;34m(\u001b[0m\u001b[0mX\u001b[0m\u001b[0;34m,\u001b[0m \u001b[0mlabels\u001b[0m\u001b[0;34m,\u001b[0m \u001b[0mmetric\u001b[0m\u001b[0;34m=\u001b[0m\u001b[0mmetric\u001b[0m\u001b[0;34m,\u001b[0m \u001b[0;34m**\u001b[0m\u001b[0mkwds\u001b[0m\u001b[0;34m)\u001b[0m\u001b[0;34m)\u001b[0m\u001b[0;34m\u001b[0m\u001b[0;34m\u001b[0m\u001b[0m\n\u001b[0m\u001b[1;32m    118\u001b[0m \u001b[0;34m\u001b[0m\u001b[0m\n\u001b[1;32m    119\u001b[0m \u001b[0;34m\u001b[0m\u001b[0m\n",
            "\u001b[0;32m/usr/local/lib/python3.7/dist-packages/sklearn/metrics/cluster/_unsupervised.py\u001b[0m in \u001b[0;36msilhouette_samples\u001b[0;34m(X, labels, metric, **kwds)\u001b[0m\n\u001b[1;32m    225\u001b[0m     \u001b[0mn_samples\u001b[0m \u001b[0;34m=\u001b[0m \u001b[0mlen\u001b[0m\u001b[0;34m(\u001b[0m\u001b[0mlabels\u001b[0m\u001b[0;34m)\u001b[0m\u001b[0;34m\u001b[0m\u001b[0;34m\u001b[0m\u001b[0m\n\u001b[1;32m    226\u001b[0m     \u001b[0mlabel_freqs\u001b[0m \u001b[0;34m=\u001b[0m \u001b[0mnp\u001b[0m\u001b[0;34m.\u001b[0m\u001b[0mbincount\u001b[0m\u001b[0;34m(\u001b[0m\u001b[0mlabels\u001b[0m\u001b[0;34m)\u001b[0m\u001b[0;34m\u001b[0m\u001b[0;34m\u001b[0m\u001b[0m\n\u001b[0;32m--> 227\u001b[0;31m     \u001b[0mcheck_number_of_labels\u001b[0m\u001b[0;34m(\u001b[0m\u001b[0mlen\u001b[0m\u001b[0;34m(\u001b[0m\u001b[0mle\u001b[0m\u001b[0;34m.\u001b[0m\u001b[0mclasses_\u001b[0m\u001b[0;34m)\u001b[0m\u001b[0;34m,\u001b[0m \u001b[0mn_samples\u001b[0m\u001b[0;34m)\u001b[0m\u001b[0;34m\u001b[0m\u001b[0;34m\u001b[0m\u001b[0m\n\u001b[0m\u001b[1;32m    228\u001b[0m \u001b[0;34m\u001b[0m\u001b[0m\n\u001b[1;32m    229\u001b[0m     \u001b[0mkwds\u001b[0m\u001b[0;34m[\u001b[0m\u001b[0;34m\"metric\"\u001b[0m\u001b[0;34m]\u001b[0m \u001b[0;34m=\u001b[0m \u001b[0mmetric\u001b[0m\u001b[0;34m\u001b[0m\u001b[0;34m\u001b[0m\u001b[0m\n",
            "\u001b[0;32m/usr/local/lib/python3.7/dist-packages/sklearn/metrics/cluster/_unsupervised.py\u001b[0m in \u001b[0;36mcheck_number_of_labels\u001b[0;34m(n_labels, n_samples)\u001b[0m\n\u001b[1;32m     33\u001b[0m         raise ValueError(\n\u001b[1;32m     34\u001b[0m             \u001b[0;34m\"Number of labels is %d. Valid values are 2 to n_samples - 1 (inclusive)\"\u001b[0m\u001b[0;34m\u001b[0m\u001b[0;34m\u001b[0m\u001b[0m\n\u001b[0;32m---> 35\u001b[0;31m             \u001b[0;34m%\u001b[0m \u001b[0mn_labels\u001b[0m\u001b[0;34m\u001b[0m\u001b[0;34m\u001b[0m\u001b[0m\n\u001b[0m\u001b[1;32m     36\u001b[0m         )\n\u001b[1;32m     37\u001b[0m \u001b[0;34m\u001b[0m\u001b[0m\n",
            "\u001b[0;31mValueError\u001b[0m: Number of labels is 1. Valid values are 2 to n_samples - 1 (inclusive)"
          ]
        }
      ]
    },
    {
      "cell_type": "code",
      "source": [
        "results = pd.DataFrame()\n",
        "results['encounter_id'] = df['encounter_id']\n",
        "results['kmeans'] = kmeans_pred[0]"
      ],
      "metadata": {
        "id": "OITRUD0LWejF"
      },
      "execution_count": 14,
      "outputs": []
    },
    {
      "cell_type": "code",
      "source": [
        "results.to_csv('/content/drive/MyDrive/DM_CA3/results_810100386.csv')"
      ],
      "metadata": {
        "id": "dh_-RCmZci3A"
      },
      "execution_count": 21,
      "outputs": []
    }
  ],
  "metadata": {
    "colab": {
      "collapsed_sections": [],
      "name": "DM_CA3_810100386.ipynb",
      "provenance": []
    },
    "kernelspec": {
      "display_name": "Python 3",
      "name": "python3"
    },
    "language_info": {
      "name": "python"
    }
  },
  "nbformat": 4,
  "nbformat_minor": 0
}